{
 "cells": [
  {
   "cell_type": "code",
   "execution_count": 13,
   "metadata": {},
   "outputs": [],
   "source": [
    "import torch\n",
    "from bertviz import head_view\n",
    "from transformers import MT5TokenizerFast, MT5ForConditionalGeneration\n",
    "from datasets import load_dataset\n",
    "import matplotlib.pyplot as plt\n",
    "import numpy as np\n",
    "\n",
    "from overfit_attention import prepare_text_input\n"
   ]
  },
  {
   "cell_type": "code",
   "execution_count": 3,
   "metadata": {},
   "outputs": [
    {
     "name": "stderr",
     "output_type": "stream",
     "text": [
      "Using custom data configuration dennlinger--klexikon-713c6b3fddad5d3f\n",
      "Reusing dataset json (/home/dennis/.cache/huggingface/datasets/json/dennlinger--klexikon-713c6b3fddad5d3f/0.0.0/c90812beea906fcffe0d5e3bb9eba909a80a998b5f88e9f8acbd320aa91acfde)\n"
     ]
    },
    {
     "data": {
      "application/vnd.jupyter.widget-view+json": {
       "model_id": "f2cc8c0915bb40d8ab0353303ec732cb",
       "version_major": 2,
       "version_minor": 0
      },
      "text/plain": [
       "  0%|          | 0/3 [00:00<?, ?it/s]"
      ]
     },
     "metadata": {},
     "output_type": "display_data"
    },
    {
     "name": "stdout",
     "output_type": "stream",
     "text": [
      "<pad></s>Eine Blume ist der farbige Teil einer Pflanze. <extra_id_1> Eine Blume ist eigentlich eine Blüte. <extra_id_1> In der Blüte bilden sich die Samen. <extra_id_1> Die meisten Blumen brauchen Insekten, welche die Bestäubung übernehmen. <extra_id_1> So können sich dann Samen bilden.</s>\n"
     ]
    }
   ],
   "source": [
    "# Some features are shared among all models\n",
    "shortest_article_ids = [260, 1301, 2088, 665, 1572, 436, 1887, 1422, 1506, 474]\n",
    "\n",
    "dataset = load_dataset(\"dennlinger/klexikon\")\n",
    "tokenizer = MT5TokenizerFast.from_pretrained(\"google/mt5-small\")\n",
    "\n",
    "for idx in shortest_article_ids:\n",
    "    # Load index-specific model\n",
    "    model = MT5ForConditionalGeneration.from_pretrained(f\"./overfit_models/{idx}\")\n",
    "    \n",
    "    sample = dataset[\"train\"][idx]\n",
    "    # Prepare with sensible border tokens. Decoder needs to start with <pad>\n",
    "    wiki_text = f\"<extra_id_0> {prepare_text_input(sample['wiki_sentences'], max_sentences=15)}\"\n",
    "    klexikon_text = f\"<pad> {prepare_text_input(sample['klexikon_sentences'], max_sentences=5)}\"\n",
    "\n",
    "    # Prepare forward pass\n",
    "    model_inputs = tokenizer(wiki_text, return_tensors=\"pt\")\n",
    "    decoder_inputs = tokenizer(klexikon_text, return_tensors=\"pt\")\n",
    "    model_inputs[\"decoder_input_ids\"] = decoder_inputs[\"input_ids\"]\n",
    "    \n",
    "    result = model(input_ids=model_inputs[\"input_ids\"], attention_mask=model_inputs[\"attention_mask\"],\n",
    "                   decoder_input_ids=model_inputs[\"decoder_input_ids\"], output_attentions=True,\n",
    "                   labels=model_inputs[\"decoder_input_ids\"])\n",
    "    \n",
    "    # Check predicted tokens for sanity check\n",
    "    predicted_ids = torch.argmax(result.logits.detach().to(\"cpu\"), dim=-1)\n",
    "    print(tokenizer.decode(predicted_ids[0]))\n",
    "    \n",
    "    break\n"
   ]
  },
  {
   "cell_type": "code",
   "execution_count": 9,
   "metadata": {},
   "outputs": [
    {
     "data": {
      "text/plain": [
       "torch.Size([1, 6, 73, 468])"
      ]
     },
     "execution_count": 9,
     "metadata": {},
     "output_type": "execute_result"
    }
   ],
   "source": [
    "result.cross_attentions[0].shape"
   ]
  },
  {
   "cell_type": "code",
   "execution_count": 16,
   "metadata": {},
   "outputs": [
    {
     "data": {
      "image/png": "[encoded data removed]",
      "text/plain": [
       "<Figure size 432x288 with 2 Axes>"
      ]
     },
     "metadata": {
      "needs_background": "light"
     },
     "output_type": "display_data"
    }
   ],
   "source": [
    "plt.imshow(result.cross_attentions[0][0,0,:,:].detach().numpy())\n",
    "plt.colorbar()\n",
    "plt.show()"
   ]
  },
  {
   "cell_type": "code",
   "execution_count": null,
   "metadata": {},
   "outputs": [],
   "source": []
  }
 ],
 "metadata": {
  "kernelspec": {
   "display_name": "Python 3 (ipykernel)",
   "language": "python",
   "name": "python3"
  },
  "language_info": {
   "codemirror_mode": {
    "name": "ipython",
    "version": 3
   },
   "file_extension": ".py",
   "mimetype": "text/x-python",
   "name": "python",
   "nbconvert_exporter": "python",
   "pygments_lexer": "ipython3",
   "version": "3.9.7"
  }
 },
 "nbformat": 4,
 "nbformat_minor": 1
}
