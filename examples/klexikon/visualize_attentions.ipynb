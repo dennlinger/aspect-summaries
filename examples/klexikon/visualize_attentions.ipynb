{
 "cells": [
  {
   "cell_type": "code",
   "execution_count": 1,
   "metadata": {},
   "outputs": [],
   "source": [
    "from bertviz import model_view\n",
    "from transformers import MT5TokenizerFast, MT5ForConditionalGeneration, AdamW\n"
   ]
  },
  {
   "cell_type": "code",
   "execution_count": null,
   "metadata": {},
   "outputs": [],
   "source": [
    "# Some features are shared among all models\n",
    "shortest_article_ids = [260, 1301, 2088, 665, 1572, 436, 1887, 1422, 1506, 474]\n",
    "\n",
    "dataset = load_dataset(\"dennlinger/klexikon\")\n",
    "tokenizer = MT5TokenizerFast.from_pretrained(\"google/mt5-small\")\n",
    "\n",
    "for idx in shortest_article_ids:\n",
    "    # Load index-specific model\n",
    "    model = MT5ForConditionalGeneration.from_pretrained(f\"./{idx}\")\n",
    "    # Prepare with sensible border tokens. Decoder needs to start with <pad>\n",
    "    wiki_text = f\"<extra_id_0> {prepare_text_input(sample['wiki_sentences'])}\"\n",
    "    klexikon_text = f\"<pad> {prepare_text_input(sample['klexikon_sentences'])}\"\n",
    "\n",
    "    # Prepare forward pass\n",
    "    model_inputs = tokenizer(wiki_text, return_tensors=\"pt\")\n",
    "    decoder_inputs = tokenizer(klexikon_text, return_tensors=\"pt\")\n",
    "    model_inputs[\"decoder_input_ids\"] = decoder_inputs[\"input_ids\"]\n",
    "    \n",
    "    result = model(input_ids=model_inputs[\"input_ids\"], attention_mask=model_inputs[\"attention_mask\"],\n",
    "                   decoder_input_ids=model_inputs[\"decoder_input_ids\"], output_attentions=True,\n",
    "                   labels=model_inputs[\"decoder_input_ids\"])\n",
    "    \n",
    "    # Check predicted tokens for sanity check\n",
    "    predicted_ids = torch.argmax(result.logits.detach().to(\"cpu\"), dim=-1)\n",
    "    print(tokenizer.decode(predicted_ids[0]))\n",
    "\n",
    "    model_view(cross_attention=result.cross_attentions,\n",
    "               encoder_tokens=tokenizer.convert_ids_to_tokens(model_inputs[\"input_ids\"][0]),\n",
    "               decoder_tokens=tokenizer.convert_ids_to_tokens(model_inputs[\"decoder_input_ids\"][0]))"
   ]
  }
 ],
 "metadata": {
  "kernelspec": {
   "display_name": "Python 3 (ipykernel)",
   "language": "python",
   "name": "python3"
  },
  "language_info": {
   "codemirror_mode": {
    "name": "ipython",
    "version": 3
   },
   "file_extension": ".py",
   "mimetype": "text/x-python",
   "name": "python",
   "nbconvert_exporter": "python",
   "pygments_lexer": "ipython3",
   "version": "3.9.7"
  }
 },
 "nbformat": 4,
 "nbformat_minor": 1
}