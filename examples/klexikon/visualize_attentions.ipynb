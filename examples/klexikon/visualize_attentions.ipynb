{
 "cells": [
  {
   "cell_type": "code",
   "execution_count": 1,
   "metadata": {},
   "outputs": [],
   "source": [
    "import torch\n",
    "from bertviz import head_view\n",
    "from transformers import MT5TokenizerFast, MT5ForConditionalGeneration\n",
    "from datasets import load_dataset\n",
    "import matplotlib.pyplot as plt\n",
    "import numpy as np\n",
    "\n",
    "from overfit_attention import prepare_text_input\n"
   ]
  },
  {
   "cell_type": "code",
   "execution_count": 2,
   "metadata": {},
   "outputs": [
    {
     "name": "stderr",
     "output_type": "stream",
     "text": [
      "Using custom data configuration dennlinger--klexikon-713c6b3fddad5d3f\n",
      "Reusing dataset json (/home/dennis/.cache/huggingface/datasets/json/dennlinger--klexikon-713c6b3fddad5d3f/0.0.0/c90812beea906fcffe0d5e3bb9eba909a80a998b5f88e9f8acbd320aa91acfde)\n"
     ]
    },
    {
     "data": {
      "application/vnd.jupyter.widget-view+json": {
       "model_id": "e0a1a23890d14b2093f048c475669486",
       "version_major": 2,
       "version_minor": 0
      },
      "text/plain": [
       "  0%|          | 0/3 [00:00<?, ?it/s]"
      ]
     },
     "metadata": {},
     "output_type": "display_data"
    },
    {
     "name": "stdout",
     "output_type": "stream",
     "text": [
      "<pad></s>Eine Blume ist der farbige Teil einer Pflanze. <extra_id_1> Eine Blume ist eigentlich eine Blüte. <extra_id_1> In der Blüte bilden sich die Samen. <extra_id_1> Die meisten Blumen brauchen Insekten, welche die Bestäubung übernehmen. <extra_id_1> So können sich dann Samen bilden.</s>\n"
     ]
    }
   ],
   "source": [
    "# Some features are shared among all models\n",
    "shortest_article_ids = [260, 1301, 2088, 665, 1572, 436, 1887, 1422, 1506, 474]\n",
    "\n",
    "dataset = load_dataset(\"dennlinger/klexikon\")\n",
    "tokenizer = MT5TokenizerFast.from_pretrained(\"google/mt5-small\")\n",
    "\n",
    "for idx in shortest_article_ids:\n",
    "    # Load index-specific model\n",
    "    model = MT5ForConditionalGeneration.from_pretrained(f\"./overfit_models/{idx}\")\n",
    "    \n",
    "    sample = dataset[\"train\"][idx]\n",
    "    # Prepare with sensible border tokens. Decoder needs to start with <pad>\n",
    "    wiki_text = f\"<extra_id_0> {prepare_text_input(sample['wiki_sentences'], max_sentences=15)}\"\n",
    "    klexikon_text = f\"<pad> {prepare_text_input(sample['klexikon_sentences'], max_sentences=5)}\"\n",
    "\n",
    "    # Prepare forward pass\n",
    "    model_inputs = tokenizer(wiki_text, return_tensors=\"pt\")\n",
    "    decoder_inputs = tokenizer(klexikon_text, return_tensors=\"pt\")\n",
    "    model_inputs[\"decoder_input_ids\"] = decoder_inputs[\"input_ids\"]\n",
    "    \n",
    "    result = model(input_ids=model_inputs[\"input_ids\"], attention_mask=model_inputs[\"attention_mask\"],\n",
    "                   decoder_input_ids=model_inputs[\"decoder_input_ids\"], output_attentions=True,\n",
    "                   labels=model_inputs[\"decoder_input_ids\"])\n",
    "    \n",
    "    # Check predicted tokens for sanity check\n",
    "    predicted_ids = torch.argmax(result.logits.detach().to(\"cpu\"), dim=-1)\n",
    "    print(tokenizer.decode(predicted_ids[0]))\n",
    "    \n",
    "    break\n"
   ]
  },
  {
   "cell_type": "code",
   "execution_count": 3,
   "metadata": {},
   "outputs": [
    {
     "data": {
      "text/plain": [
       "8"
      ]
     },
     "execution_count": 3,
     "metadata": {},
     "output_type": "execute_result"
    }
   ],
   "source": [
    "len(result.cross_attentions)"
   ]
  },
  {
   "cell_type": "code",
   "execution_count": 5,
   "metadata": {},
   "outputs": [
    {
     "data": {
      "text/plain": [
       "array([[1.1443987e-04, 2.3527838e-04, 2.3657412e-04, ..., 5.9100566e-05,\n",
       "        5.1255829e-05, 6.0391012e-05],\n",
       "       [2.4331753e-04, 1.4051136e-04, 1.5140099e-04, ..., 3.8010138e-03,\n",
       "        1.9763072e-03, 1.4918630e-02],\n",
       "       [1.0647230e-04, 1.8465974e-04, 1.5210202e-04, ..., 9.2040369e-04,\n",
       "        1.6043212e-03, 4.9049687e-02],\n",
       "       ...,\n",
       "       [8.9709691e-05, 2.1584901e-04, 4.6336652e-05, ..., 2.5362111e-04,\n",
       "        2.6652700e-04, 3.5407001e-01],\n",
       "       [1.5538792e-03, 1.9496080e-03, 2.0468752e-03, ..., 7.8630442e-04,\n",
       "        6.1825272e-03, 2.2834098e-02],\n",
       "       [8.2452796e-05, 1.1002689e-04, 7.0812384e-05, ..., 2.7075403e-06,\n",
       "        4.0671981e-05, 2.9440781e-03]], dtype=float32)"
      ]
     },
     "execution_count": 5,
     "metadata": {},
     "output_type": "execute_result"
    }
   ],
   "source": [
    "result.cross_attentions[0][0,0,:,:].detach().numpy()"
   ]
  },
  {
   "cell_type": "code",
   "execution_count": 11,
   "metadata": {},
   "outputs": [],
   "source": [
    "first_layer = result.cross_attentions[0]"
   ]
  },
  {
   "cell_type": "code",
   "execution_count": 13,
   "metadata": {},
   "outputs": [
    {
     "data": {
      "image/png": "[encoded data removed]",
      "text/plain": [
       "<Figure size 432x288 with 2 Axes>"
      ]
     },
     "metadata": {
      "needs_background": "light"
     },
     "output_type": "display_data"
    }
   ],
   "source": [
    "# Verify plotting works\n",
    "plt.imshow(first_layer[0,0,:10,:50].detach().numpy(), interpolation=\"none\")\n",
    "plt.colorbar()\n",
    "plt.show()"
   ]
  },
  {
   "cell_type": "code",
   "execution_count": 7,
   "metadata": {},
   "outputs": [
    {
     "data": {
      "text/plain": [
       "tensor(0.0626, grad_fn=<UnbindBackward0>)"
      ]
     },
     "execution_count": 7,
     "metadata": {},
     "output_type": "execute_result"
    }
   ],
   "source": [
    "max(result.cross_attentions[0][0,0,0,:])"
   ]
  },
  {
   "cell_type": "code",
   "execution_count": 16,
   "metadata": {},
   "outputs": [
    {
     "name": "stdout",
     "output_type": "stream",
     "text": [
      "['▁<extra_id_0>', '▁', 'Eine', '▁Blum', 'e', '▁(', 'von', '▁alt', 'hoch', 'deutsch', '▁blu', 'oma', ',', '▁von', '▁indo', 'german', 'isch', '▁b', 'hlo', ',', '▁\"', 'bl', 'ühen', ',', '▁zum', '▁Vor', 'schein', '▁kommen', '\")', '▁be', 'zeichnet', '▁in', '▁der', '▁Alltag', 's', 'sprache', '▁', 'ent', 'weder', '▁eine', '▁B', 'lüten', 'pflanz', 'e', ',', '▁die', '▁', 'größe', 're', ',', '▁in', 's', '▁Auge', '▁fa', 'llende', '▁B', 'lüten', '▁\"', 'her', 'vor', 'bring', 't', '\",', '▁oder', '▁eine', '▁\"', 'einzel', 'ne', '▁B', 'lüt', 'e', '▁', 'einer', '▁Blum', 'e', '▁mit', '▁S', 'tiel', '\"', '▁oder', '▁wird', '▁als', '▁Kurz', 'form', '▁für', '▁Blumen', 'stock', '▁', 'verwend', 'et', '.', '▁<extra_id_1>', '▁Sie', '▁', 'dient', '▁of', 't', '▁als', '▁Schmuck', ',', '▁z', '.', '▁B', '.', '▁als', '▁Schnitt', 'blu', 'me', '▁in', '▁', 'einem', '▁Blumen', 'stra', 'uß', ',', '▁als', '▁Blumen', 'kran', 'z', '▁oder', '▁Blumen', 'ge', 'binde', '.', '▁<extra_id_1>', '▁In', '▁der', '▁Bild', 'enden', '▁Kunst', '▁sind', '▁Blumen', '▁als', '▁', 'floral', 'es', '▁Motiv', '▁ein', '▁hä', 'ufig', '▁dar', 'gestellt', 'es', '▁', 'Thema', '.', '▁<extra_id_1>', '▁In', '▁der', '▁Botan', 'ik', '▁ist', '▁der', '▁B', 'egriff', '▁Blum', 'e', '▁da', 'gegen', '▁klar', '▁defini', 'ert', '▁und', '▁wird', '▁in', 's', 'besonder', 'e', '▁vom', '▁B', 'egriff', '▁B', 'lüt', 'e', '▁ge', 'trenn', 't', '.', '▁<extra_id_1>', '▁Wä', 'hrend', '▁die', '▁Blum', 'e', '▁(', 'als', '▁Einzel', 'b', 'lüt', 'e', '▁oder', '▁B', 'lüten', 'stand', ')', '▁über', '▁', 'ihre', '▁Funktion', '▁bei', '▁der', '▁B', 'estä', 'ubung', '▁defini', 'ert', '▁ist', ',', '▁ist', '▁eine', '▁B', 'lüt', 'e', '▁(', 'als', '▁gest', 'auch', 'ter', '▁S', 'pros', 's', '▁mit', '▁meta', 'morpho', 's', 'ierten', '▁B', 'lätter', 'n', ')', '▁ein', '▁durch', '▁die', '▁', 'Morph', 'ologie', '▁', 'einde', 'utig', '▁defin', 'ierter', '▁B', 'egriff', '.', '▁<extra_id_1>', '▁', 'Eine', '▁Blum', 'e', '▁ist', '▁die', '▁be', 'stä', 'ubung', 's', 'b', 'iologische', '▁', 'Einheit', '▁der', '▁B', 'lüten', 'pflanzen', '.', '▁<extra_id_1>', '▁Es', '▁ist', '▁', 'ihre', '▁', 'Aufgabe', ',', '▁B', 'estä', 'uber', '▁anzu', 'locken', ',', '▁oder', '▁sie', '▁', 'bildet', '▁eine', '▁', 'technisch', '-', 'funktion', 'elle', '▁', 'Einheit', '.', '▁<extra_id_1>', '▁Blum', 'e', '▁ist', '▁also', '▁ein', '▁öko', 'logisch', '-', 'funktion', 'al', '▁defin', 'ierter', '▁B', 'egriff', '.', '▁<extra_id_1>', '▁So', '▁werden', '▁von', '▁T', 'ieren', '▁be', 'stä', 'ub', 'te', '▁Blumen', '▁nach', '▁', 'i', 'hren', '▁B', 'estä', 'ubern', '▁einge', 'teilt', ',', '▁', 'etwa', '▁die', '▁Vogel', 'blumen', '▁oder', '▁die', '▁Kä', 'fer', 'blumen', '.', '▁<extra_id_1>', '▁', 'Eine', '▁B', 'lüt', 'e', '▁wird', '▁als', '▁S', 'pros', 's', '▁', 'begren', 'zten', '▁Wachstum', 's', '▁im', '▁', 'Dienste', '▁der', '▁', 'sexuell', 'en', '▁Verme', 'hrung', '▁defini', 'ert', '.', '▁<extra_id_1>', '▁', 'Ihr', '▁', 'Aufbau', '▁ist', '▁klar', '▁ge', 'glieder', 't', '▁in', '▁B', 'lüten', 'hülle', ',', '▁Staub', 'blätter', '▁und', '▁Frucht', 'blätter', '.', '▁<extra_id_1>', '▁Tul', 'pen', '-', '▁oder', '▁Rosen', 'b', 'lüten', '▁sind', '▁hier', 'für', '▁', 'gute', '▁Beispiel', 'e', '.', '▁<extra_id_1>', '▁D', 'abei', '▁m', 'üssen', '▁sie', '▁kein', 'es', 'wegs', '▁auf', 'fällig', '▁ge', 'baut', '▁oder', '▁', 'gefä', 'rbt', '▁sein', ';', '▁', 'auch', '▁Grä', 'ser', '▁be', 'sitzen', '▁B', 'lüten', '.', '▁<extra_id_1>', '▁Nach', '▁der', '▁Gestalt', '▁der', '▁Blumen', '▁werden', '▁v', 'erschieden', 'e', '▁Blumen', 'typen', '▁', 'unterschied', 'en', '.', '▁<extra_id_1>', '▁Der', '▁Blumen', 'typ', '▁', 'steht', '▁da', 'bei', '▁in', '▁', 'enger', '▁Verbindung', '▁zum', '▁jew', 'eiligen', '▁B', 'estä', 'uber', ':', '</s>']\n"
     ]
    }
   ],
   "source": [
    "subwords_input = tokenizer.convert_ids_to_tokens(model_inputs[\"input_ids\"][0])\n",
    "print(subwords_input)"
   ]
  },
  {
   "cell_type": "code",
   "execution_count": 18,
   "metadata": {},
   "outputs": [
    {
     "name": "stdout",
     "output_type": "stream",
     "text": [
      "['<pad>', '▁', 'Eine', '▁Blum', 'e', '▁ist', '▁der', '▁', 'farbig', 'e', '▁Teil', '▁', 'einer', '▁Pflanze', '.', '▁<extra_id_1>', '▁', 'Eine', '▁Blum', 'e', '▁ist', '▁eigen', 'tlich', '▁eine', '▁B', 'lüt', 'e', '.', '▁<extra_id_1>', '▁In', '▁der', '▁B', 'lüt', 'e', '▁', 'bilden', '▁sich', '▁die', '▁', 'Samen', '.', '▁<extra_id_1>', '▁Die', '▁meist', 'en', '▁Blumen', '▁', 'brauche', 'n', '▁In', 's', 'ekten', ',', '▁wel', 'che', '▁die', '▁B', 'estä', 'ubung', '▁über', 'nehmen', '.', '▁<extra_id_1>', '▁So', '▁können', '▁sich', '▁dann', '▁', 'Samen', '▁', 'bilden', '.', '</s>']\n"
     ]
    }
   ],
   "source": [
    "subwords_output = tokenizer.convert_ids_to_tokens(decoder_inputs[\"input_ids\"][0])\n",
    "print(subwords_output)"
   ]
  },
  {
   "cell_type": "code",
   "execution_count": 25,
   "metadata": {},
   "outputs": [
    {
     "name": "stdout",
     "output_type": "stream",
     "text": [
      "[0, 91, 124, 146, 178, 244, 264, 291, 307, 339, 367, 388, 404, 432, 448, 468]\n"
     ]
    }
   ],
   "source": [
    "input_indices = [0] + [idx for idx, subword in enumerate(subwords_input) if \"<extra_id_1>\" in subword] + [len(subwords_input)]\n",
    "print(input_indices)"
   ]
  },
  {
   "cell_type": "code",
   "execution_count": 26,
   "metadata": {},
   "outputs": [
    {
     "name": "stdout",
     "output_type": "stream",
     "text": [
      "[0, 15, 28, 41, 62, 73]\n"
     ]
    }
   ],
   "source": [
    "output_indices = [0] + [idx for idx, subword in enumerate(subwords_output) if \"<extra_id_\" in subword] + [len(subwords_output)]\n",
    "print(output_indices)"
   ]
  },
  {
   "cell_type": "code",
   "execution_count": 45,
   "metadata": {},
   "outputs": [],
   "source": [
    "def aggregate_matrix_into_sentence_based(attn_matrix, in_indices, out_indices):\n",
    "    res = np.zeros([len(in_indices) - 1, len(out_indices) - 1])\n",
    "    \n",
    "    for i in range(res.shape[0]):\n",
    "        for j in range(res.shape[1]):\n",
    "            res[i, j] = np.sum(attn_matrix[0, 0, out_indices[j]:out_indices[j+1], in_indices[i]:in_indices[i+1]])\n",
    "    \n",
    "    return res"
   ]
  },
  {
   "cell_type": "code",
   "execution_count": 48,
   "metadata": {},
   "outputs": [
    {
     "name": "stdout",
     "output_type": "stream",
     "text": [
      "[[2.99834347 1.96102762 1.83671045 2.63361096 1.74681377]\n",
      " [1.32212567 1.06229305 0.90848804 1.30420494 0.71076196]\n",
      " [0.5669136  0.56196082 0.55123651 0.86826968 0.57211471]\n",
      " [1.12888217 0.70184654 0.60533977 0.82460773 0.5191927 ]\n",
      " [1.94138622 1.4283762  1.37748134 2.05443859 1.26449585]\n",
      " [0.51642746 0.36479363 0.34927329 0.48452353 0.38499814]\n",
      " [0.50165701 0.48785535 0.55719256 0.92564678 0.554685  ]\n",
      " [0.37796679 0.23677078 0.2238479  0.33245325 0.19093746]\n",
      " [1.08089793 0.84333092 0.80556703 1.30009651 0.74932778]\n",
      " [0.70107329 0.67429125 0.68420053 1.09742188 0.59883356]\n",
      " [0.61834311 0.48454788 0.51920652 0.64104021 0.4593949 ]\n",
      " [0.49124253 0.50950217 0.51333714 0.74177253 0.459095  ]\n",
      " [0.78559119 0.78968942 0.75422776 1.11400676 0.69932175]\n",
      " [0.601026   0.54315913 0.50232059 0.65694654 0.43151054]\n",
      " [1.36812329 2.35055518 2.81157064 6.02095985 1.65851665]]\n"
     ]
    }
   ],
   "source": [
    "sentence_attentions = aggregate_matrix_into_sentence_based(first_layer, input_indices, output_indices)\n",
    "print(sentence_attentions)"
   ]
  },
  {
   "cell_type": "code",
   "execution_count": 34,
   "metadata": {},
   "outputs": [],
   "source": [
    "first_layer = first_layer.detach().numpy()"
   ]
  },
  {
   "cell_type": "code",
   "execution_count": 42,
   "metadata": {},
   "outputs": [
    {
     "data": {
      "text/plain": [
       "(1, 6, 73, 468)"
      ]
     },
     "execution_count": 42,
     "metadata": {},
     "output_type": "execute_result"
    }
   ],
   "source": [
    "first_layer.shape"
   ]
  },
  {
   "cell_type": "code",
   "execution_count": 50,
   "metadata": {},
   "outputs": [
    {
     "data": {
      "text/plain": [
       "14.999999731779099"
      ]
     },
     "execution_count": 50,
     "metadata": {},
     "output_type": "execute_result"
    }
   ],
   "source": [
    "sentence_attentions[:, 0].sum()"
   ]
  },
  {
   "cell_type": "code",
   "execution_count": 62,
   "metadata": {},
   "outputs": [
    {
     "name": "stdout",
     "output_type": "stream",
     "text": [
      "[[0.19988957 0.15084828 0.14128542 0.12541005 0.15880126]\n",
      " [0.08814171 0.08171485 0.06988369 0.062105   0.06461473]\n",
      " [0.03779424 0.04322776 0.04240281 0.04134618 0.05201043]\n",
      " [0.07525881 0.0539882  0.0465646  0.03926704 0.04719934]\n",
      " [0.12942575 0.10987509 0.1059601  0.09783041 0.11495417]\n",
      " [0.0344285  0.02806105 0.02686718 0.02307255 0.03499983]\n",
      " [0.0334438  0.03752733 0.04286097 0.04407842 0.05042591]\n",
      " [0.02519779 0.01821314 0.01721907 0.01583111 0.01735795]\n",
      " [0.07205986 0.06487161 0.06196669 0.06190936 0.06812071]\n",
      " [0.04673822 0.05186856 0.05263081 0.05225819 0.05443942]\n",
      " [0.04122288 0.03727291 0.03993896 0.03052572 0.04176317]\n",
      " [0.0327495  0.03919247 0.03948747 0.0353225  0.04173591]\n",
      " [0.05237275 0.06074534 0.05801752 0.05304794 0.06357471]\n",
      " [0.0400684  0.04178147 0.03864005 0.03128317 0.03922823]\n",
      " [0.09120822 0.18081194 0.21627466 0.28671238 0.15077424]]\n"
     ]
    }
   ],
   "source": [
    "normalized_sentence_attentions = sentence_attentions / np.sum(sentence_attentions, axis=0)[None, :]\n",
    "print(normalized_sentence_attentions)"
   ]
  },
  {
   "cell_type": "code",
   "execution_count": 63,
   "metadata": {},
   "outputs": [
    {
     "data": {
      "image/png": "[encoded data removed]",
      "text/plain": [
       "<Figure size 432x288 with 2 Axes>"
      ]
     },
     "metadata": {
      "needs_background": "light"
     },
     "output_type": "display_data"
    }
   ],
   "source": [
    "plt.imshow(normalized_sentence_attentions, interpolation=\"none\")\n",
    "plt.colorbar()\n",
    "plt.show()"
   ]
  },
  {
   "cell_type": "code",
   "execution_count": null,
   "metadata": {},
   "outputs": [],
   "source": []
  }
 ],
 "metadata": {
  "kernelspec": {
   "display_name": "Python 3 (ipykernel)",
   "language": "python",
   "name": "python3"
  },
  "language_info": {
   "codemirror_mode": {
    "name": "ipython",
    "version": 3
   },
   "file_extension": ".py",
   "mimetype": "text/x-python",
   "name": "python",
   "nbconvert_exporter": "python",
   "pygments_lexer": "ipython3",
   "version": "3.9.7"
  }
 },
 "nbformat": 4,
 "nbformat_minor": 1
}
